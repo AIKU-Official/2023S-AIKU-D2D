{
  "cells": [
    {
      "cell_type": "markdown",
      "source": [
        "# **0. Explanation**\n",
        "마지막 과제에 오신 것을 환영합니다. 이번 과제는 자유 주제 토이 프로젝트 진행입니다.\n",
        "\n",
        "아무런 가이드 없이 프로젝트를 진행하는 것은 어려우니, 실제 진행했던 토이 프로젝트를 설명과 함께 예시로 제시합니다."
      ],
      "metadata": {
        "id": "HNeNYFyJJTtq"
      }
    },
    {
      "cell_type": "markdown",
      "source": [
        "# **1. Dataset selection**\n",
        "사실 소규모 프로젝트를 진행함에 있어 제일 중요한 부분은 주제의 참신성/재미보다는 데이터가 있는지입니다. 데이터의 존재 유무, 데이터의 크기 등을 고려해야 합니다. 데이터를 찾을 수 있는 사이트 몇 개는 다음과 같습니다.\n",
        "\n",
        "1. AI-Hub: https://www.aihub.or.kr/\n",
        "2. Kaggle: https://www.kaggle.com/datasets\n",
        "3. 국립국어원 말뭉치 : https://ithub.korean.go.kr/user/total/database/corpusManager.do\n",
        "\n",
        "종합적으로 정리된 사이트: https://littlefoxdiary.tistory.com/42\n",
        "\n",
        "데이터가 존재한다면, 이제 데이터의 용량을 봅니다.\n",
        "극단적으로 큰 데이터를 사용한다면 시간 내 제출이 어려울 수 있습니다.\n",
        "\n",
        "NLP로는 그렇게 큰 데이터가 많지 않습니다. 원활한 진행을 위해 아주 크게 가더라도 10GB 정도를 마지노선으로 생각해 주세요. 오랜 시간 훈련시켰는데 훈련이 실패하거나 에러가 있었던 것을 깨닫게 될 때의 기분은... 모르시는 게 좋습니다.\n",
        "\n",
        "다양한 데이터셋을 보면서 관심이 가고 관심 분야의 주제와 관련된 데이터셋을 한 번 찾아보세요.\n",
        "이 과제에서 이용한 데이터셋은 AIHub의 에세이 글 평가 데이터입니다.\n",
        "(https://aihub.or.kr/aihubdata/data/view.do?currMenu=115&topMenu=100&aihubDataSe=realm&dataSetSn=545)\n"
      ],
      "metadata": {
        "id": "gFvE2804RH3d"
      }
    },
    {
      "cell_type": "markdown",
      "source": [
        "# **2. Topic selection**\n",
        "1번과 직접적으로 이어지는 과정입니다.\n",
        "\n",
        "이제 본인이 연구하고 싶은 주제/만들고 싶은 서비스는 무엇인지를 고민합니다.\n",
        "개인적으로는 이 과정이 실제 프로젝트에 있어 항상 후회되던 부분이었습니다.\n",
        "조금만 더 고민해보면 동일한 문제를 해결하는 더 좋은 방법이 있거나 해결의 필요성이 없는 주제가 많았습니다.\n",
        "\n",
        "NLP와는 무관하지만 이런 예시를 들 수 있습니다.\n",
        "한 경진대회에서 저는 '점자로 쓰인 글 축약'을 위한 프로젝트를 진행하고 있었습니다. 고민하고 모델 구조를 떠올린 이후 이런 생각이 들었습니다.\n",
        "'점자 축약이 오디오북보다 나은 점이 뭐지?' 끝내 그 질문에 대한 합리적인 대답을 내놓기는 어려워서, 다른 주제로 틀어야만 했습니다.\n",
        "\n",
        "이번 과제는 어디까지나 과제이기도 하고, 뭐라도 만들어보는 것을 목표로 합니다.\n",
        "따라서 아주 진지한 고민을 할 필요는 없지만, 꼭 기억해두시면 언젠가 필요할 때 도움이 될 것입니다.\n",
        "\n"
      ],
      "metadata": {
        "id": "GczpnTICmLWv"
      }
    },
    {
      "cell_type": "markdown",
      "source": [
        "# **3. Data analysis**\n",
        "이제는 데이터셋을 불러온 후, 데이터를 분석합니다. 이상치 제거나 모델 선정에 영향을 미칩니다.\n",
        "\n",
        "나아가 사실상 모델의 변경보다 전처리를 잘 하는게 성능에 **매우** 중대한 영향을 미칩니다.\n",
        "\n",
        "반드시 기억해주세요."
      ],
      "metadata": {
        "id": "IYAA5Xcuy4cl"
      }
    },
    {
      "cell_type": "code",
      "execution_count": null,
      "metadata": {
        "id": "MjluB8SAyEhu"
      },
      "outputs": [],
      "source": [
        "# 코랩을 이용한다면 자료를 직접 올리는 것보다 드라이브에 마운트하고 드라이브에서 받아오는 게 더 빠릅니다.\n",
        "from google.colab import drive\n",
        "drive.mount('/content/drive')"
      ]
    },
    {
      "cell_type": "code",
      "source": [
        "# import\n",
        "from transformers import ElectraForSequenceClassification, ElectraTokenizer,Trainer, TrainingArguments,utils\n",
        "import torch\n",
        "import json\n",
        "import random\n",
        "import torch.cuda\n",
        "import os"
      ],
      "metadata": {
        "id": "mXXPBXbYCtZK"
      },
      "execution_count": null,
      "outputs": []
    },
    {
      "cell_type": "code",
      "execution_count": null,
      "metadata": {
        "id": "4CFtPFRLxrc_"
      },
      "outputs": [],
      "source": [
        "# 그렇지만 개인적으로는 캐글을 추천합니다. 캐글에 데이터셋을 올리고 캐글에서 가져오는 것이 여러모로 편하고 빠릅니다.\n",
        "# 아시겠지만, os.listdir로 특정 direction의 하위 direcrtion을 모두 가져올 수 있습니다.\n",
        "td='/kaggle/input/score-data/TL_/주장/'\n",
        "vd='/kaggle/input/score-data/VL_/주장/'\n",
        "train_dir=[td+i for i in os.listdir('/kaggle/input/score-data/TL_/주장')]\n",
        "val_dir=[vd+i for i in os.listdir('/kaggle/input/score-data/VL_/주장')]\n",
        "\n",
        "# AIHub에서 제공한 validation data가 너무 많아 일부를 추출하여 training data로 이용하고자 했습니다.\n",
        "val_to_train=[val_dir[i] for i in random.sample(range(0,1488),488)]\n",
        "val_dir=[i for i in val_dir if i not in val_to_train]\n",
        "train_dir=train_dir+val_to_train"
      ]
    },
    {
      "cell_type": "code",
      "source": [
        "# 먼저 데이터를 한번 print 찍어봅니다. 큰 데이터의 경우 pprint를 이용해도 좋습니다.\n",
        " with open(train_dir[100], encoding='utf-8-sig') as train:\n",
        "        train = json.load(train)\n",
        "        print(train)"
      ],
      "metadata": {
        "id": "ABc2zgWC5pYb"
      },
      "execution_count": null,
      "outputs": []
    },
    {
      "cell_type": "code",
      "execution_count": null,
      "metadata": {
        "id": "jt-tVJ9txrdA"
      },
      "outputs": [],
      "source": [
        "# Train dataset과 validation dataset을 만들기 시작합니다.\n",
        "# json 파일을 이용하게 될 경우가 많을텐데, encoding에 주의해 주세요. 한글이라면 utf-sig-8을 주로 이용합니다.\n",
        "# json 파일의 구조가 헷갈릴 수 있습니다. 참고할 만한 사이트를 첨부합니다.\n",
        "# https://www.daleseo.com/python-json/\n",
        "train_dataset=[]\n",
        "val_dataset=[]\n",
        "\n",
        "# train data/validation data에 이용한 dir에 대해서 json 파일을 열고, data를 (문단 내용, 글 점수)로 구성합니다.\n",
        "# +0.5를 하는 것은 반올림을 위한 것입니다.\n",
        "for i in train_dir:\n",
        "    with open(i, encoding='utf-8-sig') as train:\n",
        "        train = json.load(train)\n",
        "        if len(train['paragraph'])==1: # dataset을 손으로 뜯어보니 두 개 이상의 문단이 있는 경우가 있어 문단 하나만 있는 것으로 한정\n",
        "            train_dataset.append((train['paragraph'],int(train['score']['essay_scoreT_avg']+0.5)))\n",
        "\n",
        "for i in val_dir:\n",
        "    with open(i, encoding='utf-8-sig') as val:\n",
        "        val = json.load(val)\n",
        "        if len(val['paragraph'])==1:\n",
        "            val_dataset.append((val['paragraph'],int(val['score']['essay_scoreT_avg']+0.5)))\n"
      ]
    },
    {
      "cell_type": "code",
      "execution_count": null,
      "metadata": {
        "id": "GN3P0CdTxrdB"
      },
      "outputs": [],
      "source": [
        "# 문단의 길이를 plot으로 만들어보기 위해 length를 담은 list를 만듭니다.\n",
        "# 문단의 길이가 이상치 수준으로 너무 긴 것들을 제거하고, 분포를 확인하기 위함입니다.\n",
        "lengths=[]\n",
        "for i in train_dataset:\n",
        "    for p in i[0]:\n",
        "        p['paragraph_txt']=p['paragraph_txt'].replace(\"#@문장구분#\",'') # 해당 데이터에 문장구분 토큰이 있어 그것을 기준으로 split 해줍니다.\n",
        "        lengths.append(len(p['paragraph_txt']))\n",
        "\n",
        "for i in val_dataset:\n",
        "    for p in i[0]:\n",
        "        p['paragraph_txt']=p['paragraph_txt'].replace(\"#@문장구분#\",'')\n",
        "        lengths.append(len(p['paragraph_txt']))"
      ]
    },
    {
      "cell_type": "code",
      "execution_count": null,
      "metadata": {
        "id": "edstmG6ZxrdB",
        "outputId": "4052368b-8d2a-46a4-e9fc-4e3feaf2fa70"
      },
      "outputs": [
        {
          "name": "stdout",
          "output_type": "stream",
          "text": [
            "1453\n"
          ]
        },
        {
          "data": {
            "image/png": "[encoded data removed]",
            "text/plain": "<Figure size 640x480 with 1 Axes>"
          },
          "metadata": {},
          "output_type": "display_data"
        }
      ],
      "source": [
        "import matplotlib.pyplot as plt\n",
        "plt.hist(lengths)\n",
        "lengths.sort()\n",
        "\n",
        "# 뒤에서 25번째면 몇일까?\n",
        "print(lengths[-25])\n",
        "\n",
        "# 얼추 1500의 길이를 기준으로 잘라내도록 한다."
      ]
    },
    {
      "cell_type": "code",
      "execution_count": null,
      "metadata": {
        "id": "RrkUR9xOxrdC"
      },
      "outputs": [],
      "source": [
        "# 점수가 30점 만점으로 책정되어있는데, 점수를 30점 단위로 분류하면 너무 sparse 할 것을 예상할 수 있음.\n",
        "# 따라서 점수를 1~5, 6~10과 같이 범위로 나누기로 한다. 1~5는 없어 총 5개의 분류가 된다.\n",
        "train_dataset=[(i[0][0]['paragraph_txt'],(i[1]-1)//5) for i in train_dataset if len(i[0][0]['paragraph_txt'])<=1500]\n",
        "val_dataset=[(i[0][0]['paragraph_txt'],(i[1]-1)//5) for i in val_dataset if len(i[0][0]['paragraph_txt'])<=1500]"
      ]
    },
    {
      "cell_type": "code",
      "execution_count": null,
      "metadata": {
        "id": "a-tKkvboxrdC",
        "outputId": "58d05d88-7391-40ad-dc68-98296e775b13"
      },
      "outputs": [
        {
          "data": {
            "text/plain": "(array([1.000e+00, 1.200e+01, 0.000e+00, 4.700e+01, 0.000e+00, 2.380e+02,\n        9.960e+02, 0.000e+00, 2.992e+03, 5.404e+03]),\n array([-1. , -0.4,  0.2,  0.8,  1.4,  2. ,  2.6,  3.2,  3.8,  4.4,  5. ]),\n <BarContainer object of 10 artists>)"
          },
          "execution_count": 8,
          "metadata": {},
          "output_type": "execute_result"
        },
        {
          "data": {
            "image/png": "[encoded data removed]",
            "text/plain": "<Figure size 640x480 with 1 Axes>"
          },
          "metadata": {},
          "output_type": "display_data"
        }
      ],
      "source": [
        "# score의 분포를 확인해본다.\n",
        "import matplotlib.pyplot as plt\n",
        "scores=[i[1] for i in train_dataset]+[i[1] for i in val_dataset]\n",
        "plt.hist(scores)"
      ]
    },
    {
      "cell_type": "markdown",
      "source": [
        "# **4. Model selection**\n",
        "토이 프로젝트를 위해 새로운 모델 아키텍쳐를 만드는 것은 어렵습니다.\n",
        "\n",
        "이번 과제에서는 huggingface에서 모델을 가져와 finetuning해보는 과제를 진행합니다.\n",
        "\n",
        "중요한 것은 코랩/캐글 노트북으로 돌릴 수 있는 적절한 크기의 적절한 모델을 가져오는 것입니다.\n",
        "못 돌릴 정도로 무거운 nlp 모델은 많지 않지만, 훈련 시간 등을 고려하면 가능하면 large라고 적혀 있는 model이나 generative model은 이용하지 않도록 합니다.\n",
        "\n",
        "해당 토이 프로젝트에서는 koelectra를 이용했습니다.\n",
        "(https://github.com/monologg/KoELECTRA/blob/master/README_EN.md)"
      ],
      "metadata": {
        "id": "wWmUlfLsAx7-"
      }
    },
    {
      "cell_type": "code",
      "execution_count": null,
      "metadata": {
        "colab": {
          "background_save": true,
          "base_uri": "https://localhost:8080/",
          "height": 916,
          "referenced_widgets": [
            "312a9a40b0e8459181498ed3730f14e9",
            "61c499af0ebc48d1945b5e19f28c3cf7",
            "8a2e16a2c8814263969acd2be5ce02f7",
            "213bb20d10484a3dba9d740c957d587a",
            "cdbcb0677be24fd191015bdbf7f2ef2c",
            "5aa4f38438f64f8e881fe5094dd0906f",
            "30a17533526c4414a5f3c3eeba339037",
            "07aba47fb627469491d6cde93eef42f6",
            "9c6352ca7253453cb93f270a4aa10815",
            "543cb69246624544a031599a92608ee6",
            "491899d7d9e94d84ad806850a57854ca",
            "a5b9e94ab3ef496bb4ee58a5a089bd48",
            "3be577a5971849d7ae963cfcf071fb4f",
            "024a2c1accb24d53995a5ef0cc344f01",
            "15ea63c80b7b4ef1a988d38d70e64dab",
            "d487faf8d8fc471cae7c4cb8ddb15305",
            "89b7d1028a944b7ca0b2fdfc0fafa0d1",
            "fb654b6119ec4e129fab7bae330b1bb1",
            "acc2374283f84850accd57dda72df3d3",
            "6e9bcf0f678f44e791a2e3827ce31a69",
            "2ca2ae91e2d9480a9e1eb081e486121a",
            "57311df359b445f6b5981a0272f68f85",
            "a358c891d3904f6687db3f9dd85673e3",
            "a4d945ca0ef04925996ccd9e613ea61b"
          ]
        },
        "id": "Qg_1sheVxrc9",
        "outputId": "206c991c-4265-4479-b61e-7199b340ed77"
      },
      "outputs": [
        {
          "data": {
            "application/vnd.jupyter.widget-view+json": {
              "model_id": "312a9a40b0e8459181498ed3730f14e9",
              "version_major": 2,
              "version_minor": 0
            },
            "text/plain": [
              "Downloading (…)lve/main/config.json:   0%|          | 0.00/467 [00:00<?, ?B/s]"
            ]
          },
          "metadata": {},
          "output_type": "display_data"
        },
        {
          "data": {
            "application/vnd.jupyter.widget-view+json": {
              "model_id": "61c499af0ebc48d1945b5e19f28c3cf7",
              "version_major": 2,
              "version_minor": 0
            },
            "text/plain": [
              "Downloading pytorch_model.bin:   0%|          | 0.00/452M [00:00<?, ?B/s]"
            ]
          },
          "metadata": {},
          "output_type": "display_data"
        },
        {
          "data": {
            "application/vnd.jupyter.widget-view+json": {
              "model_id": "8a2e16a2c8814263969acd2be5ce02f7",
              "version_major": 2,
              "version_minor": 0
            },
            "text/plain": [
              "Downloading (…)solve/main/vocab.txt:   0%|          | 0.00/263k [00:00<?, ?B/s]"
            ]
          },
          "metadata": {},
          "output_type": "display_data"
        },
        {
          "data": {
            "application/vnd.jupyter.widget-view+json": {
              "model_id": "024a2c1accb24d53995a5ef0cc344f01",
              "version_major": 2,
              "version_minor": 0
            },
            "text/plain": [
              "Downloading (…)okenizer_config.json:   0%|          | 0.00/61.0 [00:00<?, ?B/s]"
            ]
          },
          "metadata": {},
          "output_type": "display_data"
        },
        {
          "data": {
            "text/plain": [
              "ElectraForSequenceClassification(\n",
              "  (electra): ElectraModel(\n",
              "    (embeddings): ElectraEmbeddings(\n",
              "      (word_embeddings): Embedding(35000, 768, padding_idx=0)\n",
              "      (position_embeddings): Embedding(512, 768)\n",
              "      (token_type_embeddings): Embedding(2, 768)\n",
              "      (LayerNorm): LayerNorm((768,), eps=1e-12, elementwise_affine=True)\n",
              "      (dropout): Dropout(p=0.1, inplace=False)\n",
              "    )\n",
              "    (encoder): ElectraEncoder(\n",
              "      (layer): ModuleList(\n",
              "        (0-11): 12 x ElectraLayer(\n",
              "          (attention): ElectraAttention(\n",
              "            (self): ElectraSelfAttention(\n",
              "              (query): Linear(in_features=768, out_features=768, bias=True)\n",
              "              (key): Linear(in_features=768, out_features=768, bias=True)\n",
              "              (value): Linear(in_features=768, out_features=768, bias=True)\n",
              "              (dropout): Dropout(p=0.1, inplace=False)\n",
              "            )\n",
              "            (output): ElectraSelfOutput(\n",
              "              (dense): Linear(in_features=768, out_features=768, bias=True)\n",
              "              (LayerNorm): LayerNorm((768,), eps=1e-12, elementwise_affine=True)\n",
              "              (dropout): Dropout(p=0.1, inplace=False)\n",
              "            )\n",
              "          )\n",
              "          (intermediate): ElectraIntermediate(\n",
              "            (dense): Linear(in_features=768, out_features=3072, bias=True)\n",
              "            (intermediate_act_fn): GELUActivation()\n",
              "          )\n",
              "          (output): ElectraOutput(\n",
              "            (dense): Linear(in_features=3072, out_features=768, bias=True)\n",
              "            (LayerNorm): LayerNorm((768,), eps=1e-12, elementwise_affine=True)\n",
              "            (dropout): Dropout(p=0.1, inplace=False)\n",
              "          )\n",
              "        )\n",
              "      )\n",
              "    )\n",
              "  )\n",
              "  (classifier): ElectraClassificationHead(\n",
              "    (dense): Linear(in_features=768, out_features=768, bias=True)\n",
              "    (dropout): Dropout(p=0.1, inplace=False)\n",
              "    (out_proj): Linear(in_features=768, out_features=5, bias=True)\n",
              "  )\n",
              ")"
            ]
          },
          "execution_count": 2,
          "metadata": {},
          "output_type": "execute_result"
        }
      ],
      "source": [
        "# 재현 가능성을 위해 random seed를 설정합니다.\n",
        "random_seed=312\n",
        "torch.manual_seed(random_seed)\n",
        "\n",
        "# model과 tokenizer를 받아옵니다. 이 때, 종류에 맞는 형태로 가져오는 것이 중요합니다. ex) 글 점수 '분류' -> ElectraForSequenceClassification.from_pretrained\n",
        "model = ElectraForSequenceClassification.from_pretrained(\"monologg/koelectra-base-v3-discriminator\",num_labels=5,problem_type=\"multi_label_classification\", output_attentions=True)\n",
        "tokenizer = ElectraTokenizer.from_pretrained(\"monologg/koelectra-base-v3-discriminator\")\n",
        "device=torch.device('cuda' if torch.cuda.is_available() else 'cpu')\n",
        "model.to(device)"
      ]
    },
    {
      "cell_type": "code",
      "execution_count": null,
      "metadata": {
        "id": "__GAxo0ZxrdC"
      },
      "outputs": [],
      "source": [
        "# classification task는 주로 label을 [0,1,0,0,0] 과 같은 one-hot encoding으로 처리해 줄 때가 많다.\n",
        "# base label인 [0,0,0,0,0]에서 점수-1에 해당하는 index만 1로 만들어주자.\n",
        "base=[0,0,0,0,0]\n",
        "for i in range(len(train_dataset)):\n",
        "    temp=base.copy()\n",
        "    temp[train_dataset[i][1]-1]=1\n",
        "    train_dataset[i]=(train_dataset[i][0],temp)\n",
        "\n",
        "for i in range(len(val_dataset)):\n",
        "    temp=base.copy()\n",
        "    temp[val_dataset[i][1]-1]=1\n",
        "    val_dataset[i]=(val_dataset[i][0],temp)"
      ]
    },
    {
      "cell_type": "code",
      "execution_count": null,
      "metadata": {
        "id": "zMsfCSvLxrdD"
      },
      "outputs": [],
      "source": [
        "# Dataset class를 설정해줘야 할 때고도, 설정해주지 않아도 될 때도 많다.\n",
        "# 데이터 형식에 맞게 Dataset class를 정의해주자. .float32때문에 에러가 생길 때도 있으니 주의하자.\n",
        "# Dataset class는 결국 나중에 모델에 data를 batch 단위로 전달하는 데 이용한다.\n",
        "class Dataset(torch.utils.data.Dataset):\n",
        "    def __init__(self, encodings, labels):\n",
        "        self.encodings = encodings\n",
        "        self.labels = labels\n",
        "\n",
        "    def __getitem__(self, idx):\n",
        "        item = {key: torch.tensor(val[idx],dtype=torch.float32).long() for key, val in self.encodings.items()}\n",
        "        item['labels'] = torch.tensor(self.labels[idx],dtype=torch.float32)\n",
        "        return item\n",
        "\n",
        "    def __len__(self):\n",
        "        return len(self.labels)"
      ]
    },
    {
      "cell_type": "code",
      "execution_count": null,
      "metadata": {
        "id": "2lWSP3gbxrdE"
      },
      "outputs": [],
      "source": [
        "# tokenizer()를 이용하여 전체 데이터셋을 한 번에 tokenizing 가능\n",
        "train_encodings = tokenizer([i[0] for i in train_dataset], truncation=True, padding=True)\n",
        "val_encodings = tokenizer([i[0] for i in val_dataset], truncation=True, padding=True)"
      ]
    },
    {
      "cell_type": "code",
      "execution_count": null,
      "metadata": {
        "id": "tBcLojHyxrdE"
      },
      "outputs": [],
      "source": [
        "train_dataset = Dataset(train_encodings, [i[1] for i in train_dataset])\n",
        "val_dataset = Dataset(val_encodings, [i[1] for i in val_dataset])"
      ]
    },
    {
      "cell_type": "code",
      "execution_count": null,
      "metadata": {
        "id": "fB_S2pztxrdE"
      },
      "outputs": [],
      "source": [
        "# trainer 클래스를 이용할 것이다. 굉장히 편하고 간단하게 train 진행이 가능하다.\n",
        "# training_args에 hyperparameter를 정의하면 된다.\n",
        "# https://bo-10000.tistory.com/154\n",
        "training_args = TrainingArguments(\n",
        "    output_dir='dump',\n",
        "    do_train=True,\n",
        "    do_eval=True,\n",
        "    evaluation_strategy=\"epoch\",\n",
        "    save_strategy=\"epoch\",\n",
        "    num_train_epochs=10,\n",
        "    per_device_train_batch_size=16,\n",
        "    per_device_eval_batch_size=8,\n",
        "    warmup_ratio=0.1,\n",
        "    gradient_accumulation_steps=4,\n",
        "    save_total_limit=5,\n",
        "    dataloader_num_workers=2,\n",
        "    fp16=True,\n",
        "    load_best_model_at_end=True,\n",
        "    learning_rate=1e-4,\n",
        "    report_to=\"wandb\"\n",
        ")"
      ]
    },
    {
      "cell_type": "code",
      "execution_count": null,
      "metadata": {
        "id": "90mDxS5YxrdF"
      },
      "outputs": [],
      "source": [
        "trainer = Trainer(\n",
        "    model=model,\n",
        "    args=training_args,\n",
        "    train_dataset= train_dataset,\n",
        "    eval_dataset = val_dataset\n",
        ")"
      ]
    },
    {
      "cell_type": "markdown",
      "source": [
        "# **5. Train**\n",
        "한 줄이면 끝이다."
      ],
      "metadata": {
        "id": "9MhhuOmwIX2c"
      }
    },
    {
      "cell_type": "code",
      "execution_count": null,
      "metadata": {
        "id": "FUrSc9LtxrdF",
        "outputId": "ffc95161-620b-4382-ca5e-99560b5c6073"
      },
      "outputs": [
        {
          "name": "stderr",
          "output_type": "stream",
          "text": [
            "/opt/conda/lib/python3.10/site-packages/transformers/optimization.py:391: FutureWarning: This implementation of AdamW is deprecated and will be removed in a future version. Use the PyTorch implementation torch.optim.AdamW instead, or set `no_deprecation_warning=True` to disable this warning\n",
            "  warnings.warn(\n",
            "\u001b[34m\u001b[1mwandb\u001b[0m: Currently logged in as: \u001b[33msbpark1\u001b[0m. Use \u001b[1m`wandb login --relogin`\u001b[0m to force relogin\n"
          ]
        },
        {
          "data": {
            "text/html": "wandb version 0.15.2 is available!  To upgrade, please run:\n $ pip install wandb --upgrade",
            "text/plain": "<IPython.core.display.HTML object>"
          },
          "metadata": {},
          "output_type": "display_data"
        },
        {
          "data": {
            "text/html": "Tracking run with wandb version 0.15.0",
            "text/plain": "<IPython.core.display.HTML object>"
          },
          "metadata": {},
          "output_type": "display_data"
        },
        {
          "data": {
            "text/html": "Run data is saved locally in <code>/kaggle/working/wandb/run-20230512_133258-ndyeezms</code>",
            "text/plain": "<IPython.core.display.HTML object>"
          },
          "metadata": {},
          "output_type": "display_data"
        },
        {
          "data": {
            "text/html": "Syncing run <strong><a href='https://wandb.ai/sbpark1/huggingface/runs/ndyeezms' target=\"_blank\">dandy-snowflake-43</a></strong> to <a href='https://wandb.ai/sbpark1/huggingface' target=\"_blank\">Weights & Biases</a> (<a href='https://wandb.me/run' target=\"_blank\">docs</a>)<br/>",
            "text/plain": "<IPython.core.display.HTML object>"
          },
          "metadata": {},
          "output_type": "display_data"
        },
        {
          "data": {
            "text/html": " View project at <a href='https://wandb.ai/sbpark1/huggingface' target=\"_blank\">https://wandb.ai/sbpark1/huggingface</a>",
            "text/plain": "<IPython.core.display.HTML object>"
          },
          "metadata": {},
          "output_type": "display_data"
        },
        {
          "data": {
            "text/html": " View run at <a href='https://wandb.ai/sbpark1/huggingface/runs/ndyeezms' target=\"_blank\">https://wandb.ai/sbpark1/huggingface/runs/ndyeezms</a>",
            "text/plain": "<IPython.core.display.HTML object>"
          },
          "metadata": {},
          "output_type": "display_data"
        },
        {
          "name": "stdout",
          "output_type": "stream",
          "text": [
            "{'eval_loss': 0.41009044647216797, 'eval_runtime': 17.8297, 'eval_samples_per_second': 53.731, 'eval_steps_per_second': 6.73, 'epoch': 1.0}\n",
            "{'eval_loss': 0.39189428091049194, 'eval_runtime': 17.8378, 'eval_samples_per_second': 53.706, 'eval_steps_per_second': 6.727, 'epoch': 2.0}\n",
            "{'eval_loss': 0.40941497683525085, 'eval_runtime': 17.8686, 'eval_samples_per_second': 53.614, 'eval_steps_per_second': 6.716, 'epoch': 3.0}\n",
            "{'loss': 0.33, 'learning_rate': 7.034313725490197e-05, 'epoch': 3.66}\n",
            "{'eval_loss': 0.4172805845737457, 'eval_runtime': 17.8339, 'eval_samples_per_second': 53.718, 'eval_steps_per_second': 6.729, 'epoch': 4.0}\n",
            "{'eval_loss': 0.4668909013271332, 'eval_runtime': 17.8339, 'eval_samples_per_second': 53.718, 'eval_steps_per_second': 6.729, 'epoch': 5.0}\n",
            "{'eval_loss': 0.4901515543460846, 'eval_runtime': 17.8735, 'eval_samples_per_second': 53.599, 'eval_steps_per_second': 6.714, 'epoch': 6.0}\n",
            "{'eval_loss': 0.4767295718193054, 'eval_runtime': 17.8566, 'eval_samples_per_second': 53.65, 'eval_steps_per_second': 6.72, 'epoch': 7.0}\n",
            "{'loss': 0.33, 'learning_rate': 2.965686274509804e-05, 'epoch': 7.33}\n",
            "{'eval_loss': 0.47303950786590576, 'eval_runtime': 17.857, 'eval_samples_per_second': 53.649, 'eval_steps_per_second': 6.72, 'epoch': 8.0}\n",
            "{'eval_loss': 0.46909111738204956, 'eval_runtime': 17.8548, 'eval_samples_per_second': 53.655, 'eval_steps_per_second': 6.721, 'epoch': 9.0}\n",
            "{'eval_loss': 0.47151628136634827, 'eval_runtime': 17.8555, 'eval_samples_per_second': 53.653, 'eval_steps_per_second': 6.721, 'epoch': 9.96}\n",
            "{'train_runtime': 4797.9218, 'train_samples_per_second': 18.2, 'train_steps_per_second': 0.283, 'train_loss': 0.33425524655510397, 'epoch': 9.96}\n"
          ]
        },
        {
          "data": {
            "text/plain": "TrainOutput(global_step=1360, training_loss=0.33425524655510397, metrics={'train_runtime': 4797.9218, 'train_samples_per_second': 18.2, 'train_steps_per_second': 0.283, 'train_loss': 0.33425524655510397, 'epoch': 9.96})"
          },
          "execution_count": 15,
          "metadata": {},
          "output_type": "execute_result"
        }
      ],
      "source": [
        "trainer.train()"
      ]
    },
    {
      "cell_type": "markdown",
      "source": [
        "# **6. Inference**"
      ],
      "metadata": {
        "id": "jFZbSbEyHcyx"
      }
    },
    {
      "cell_type": "code",
      "execution_count": null,
      "metadata": {
        "id": "rBspN92SxrdF",
        "outputId": "e44a0068-7801-4135-bd0f-199b6d02f3c1"
      },
      "outputs": [
        {
          "name": "stdout",
          "output_type": "stream",
          "text": [
            "3\n"
          ]
        }
      ],
      "source": [
        "# 임의로 짧은 글을 넣어 inference를 해보자.\n",
        "inputs = tokenizer('다음으로 좋은 친구를 사귀는 방법에 대해서 알아보자. 첫째, 달콤한 말, 행동 따위가 아닌 진정한 마음의 주인공을 사귀자. 아이스크림, 과자 등을 사준다거나 네가 정말 좋다고 말만 하는 아이가 좋은 친구는 아니다. 날 진심으로 좋아하고 위해주는 친구, 날 아껴주는 친구, 이런 친구가 좋은 친구인 것이다. 둘째, 내게 힘든 일이 생겼을 때 어려움을 무릅쓰고 도와줄 수 있는 친구를 사귀자. 평소에는 친하게 지내다가도 내가 어려움에 처했을 때는 외면해 버리는 그런 친구가 아닌, 날 위해 어려움을 무릅쓰고 도와줄 수 있는 그런 친구를 사귀어야 할 것이다.', return_tensors=\"pt\")\n",
        "inputs=inputs.to(device)\n",
        "with torch.no_grad():\n",
        "    output=model(**inputs)\n",
        "    logits = output.logits\n",
        "    attention=output[-1]\n",
        "predicted_class_id = logits.argmax().item()\n",
        "print(\"이 글은 \"+str(predicted_class_id)+\" 점입니다.\")"
      ]
    },
    {
      "cell_type": "markdown",
      "source": [
        "**Q. 본인이 선정한 데이터셋과 선정한 이유가 무엇인지 간단히 적어주세요.**"
      ],
      "metadata": {
        "id": "j2RlqI1Zlirx"
      }
    },
    {
      "cell_type": "markdown",
      "source": [
        "**A.**"
      ],
      "metadata": {
        "id": "AIIpybqkmE9v"
      }
    },
    {
      "cell_type": "markdown",
      "source": [
        "**Q. 본인이 선정한 주제를 간단히 적어주세요.**"
      ],
      "metadata": {
        "id": "MCqrcdw_m-_n"
      }
    },
    {
      "cell_type": "markdown",
      "source": [
        "**A.**"
      ],
      "metadata": {
        "id": "px7CPNC9n_E_"
      }
    },
    {
      "cell_type": "markdown",
      "source": [
        "이제 직접 프로젝트를 동일한 과정으로 진행해 봅시다.\n",
        "\n",
        "무엇이든 질문이 있다면, 카카오톡으로 박수빈에게 문의 주시거나 subin8636@naver.com으로 문의 주세요~"
      ],
      "metadata": {
        "id": "xbApsazwJD6A"
      }
    }
  ],
  "metadata": {
    "colab": {
      "provenance": []
    },
    "kernelspec": {
      "display_name": "Python 3",
      "language": "python",
      "name": "python3"
    },
    "language_info": {
      "codemirror_mode": {
        "name": "ipython",
        "version": 3
      },
      "file_extension": ".py",
      "mimetype": "text/x-python",
      "name": "python",
      "nbconvert_exporter": "python",
      "pygments_lexer": "ipython3",
      "version": "3.10.10"
    },
    "widgets": {
      "application/vnd.jupyter.widget-state+json": {
        "024a2c1accb24d53995a5ef0cc344f01": {
          "model_module": "@jupyter-widgets/controls",
          "model_module_version": "1.5.0",
          "model_name": "HBoxModel",
          "state": {
            "_dom_classes": [],
            "_model_module": "@jupyter-widgets/controls",
            "_model_module_version": "1.5.0",
            "_model_name": "HBoxModel",
            "_view_count": null,
            "_view_module": "@jupyter-widgets/controls",
            "_view_module_version": "1.5.0",
            "_view_name": "HBoxView",
            "box_style": "",
            "children": [
              "IPY_MODEL_15ea63c80b7b4ef1a988d38d70e64dab",
              "IPY_MODEL_d487faf8d8fc471cae7c4cb8ddb15305",
              "IPY_MODEL_89b7d1028a944b7ca0b2fdfc0fafa0d1"
            ],
            "layout": "IPY_MODEL_fb654b6119ec4e129fab7bae330b1bb1"
          }
        },
        "07aba47fb627469491d6cde93eef42f6": {
          "model_module": "@jupyter-widgets/base",
          "model_module_version": "1.2.0",
          "model_name": "LayoutModel",
          "state": {
            "_model_module": "@jupyter-widgets/base",
            "_model_module_version": "1.2.0",
            "_model_name": "LayoutModel",
            "_view_count": null,
            "_view_module": "@jupyter-widgets/base",
            "_view_module_version": "1.2.0",
            "_view_name": "LayoutView",
            "align_content": null,
            "align_items": null,
            "align_self": null,
            "border": null,
            "bottom": null,
            "display": null,
            "flex": null,
            "flex_flow": null,
            "grid_area": null,
            "grid_auto_columns": null,
            "grid_auto_flow": null,
            "grid_auto_rows": null,
            "grid_column": null,
            "grid_gap": null,
            "grid_row": null,
            "grid_template_areas": null,
            "grid_template_columns": null,
            "grid_template_rows": null,
            "height": null,
            "justify_content": null,
            "justify_items": null,
            "left": null,
            "margin": null,
            "max_height": null,
            "max_width": null,
            "min_height": null,
            "min_width": null,
            "object_fit": null,
            "object_position": null,
            "order": null,
            "overflow": null,
            "overflow_x": null,
            "overflow_y": null,
            "padding": null,
            "right": null,
            "top": null,
            "visibility": null,
            "width": null
          }
        },
        "15ea63c80b7b4ef1a988d38d70e64dab": {
          "model_module": "@jupyter-widgets/controls",
          "model_module_version": "1.5.0",
          "model_name": "HTMLModel",
          "state": {
            "_dom_classes": [],
            "_model_module": "@jupyter-widgets/controls",
            "_model_module_version": "1.5.0",
            "_model_name": "HTMLModel",
            "_view_count": null,
            "_view_module": "@jupyter-widgets/controls",
            "_view_module_version": "1.5.0",
            "_view_name": "HTMLView",
            "description": "",
            "description_tooltip": null,
            "layout": "IPY_MODEL_acc2374283f84850accd57dda72df3d3",
            "placeholder": "​",
            "style": "IPY_MODEL_6e9bcf0f678f44e791a2e3827ce31a69",
            "value": "Downloading (…)okenizer_config.json: 100%"
          }
        },
        "213bb20d10484a3dba9d740c957d587a": {
          "model_module": "@jupyter-widgets/controls",
          "model_module_version": "1.5.0",
          "model_name": "HTMLModel",
          "state": {
            "_dom_classes": [],
            "_model_module": "@jupyter-widgets/controls",
            "_model_module_version": "1.5.0",
            "_model_name": "HTMLModel",
            "_view_count": null,
            "_view_module": "@jupyter-widgets/controls",
            "_view_module_version": "1.5.0",
            "_view_name": "HTMLView",
            "description": "",
            "description_tooltip": null,
            "layout": "IPY_MODEL_07aba47fb627469491d6cde93eef42f6",
            "placeholder": "​",
            "style": "IPY_MODEL_9c6352ca7253453cb93f270a4aa10815",
            "value": "Downloading (…)solve/main/vocab.txt: 100%"
          }
        },
        "2ca2ae91e2d9480a9e1eb081e486121a": {
          "model_module": "@jupyter-widgets/base",
          "model_module_version": "1.2.0",
          "model_name": "LayoutModel",
          "state": {
            "_model_module": "@jupyter-widgets/base",
            "_model_module_version": "1.2.0",
            "_model_name": "LayoutModel",
            "_view_count": null,
            "_view_module": "@jupyter-widgets/base",
            "_view_module_version": "1.2.0",
            "_view_name": "LayoutView",
            "align_content": null,
            "align_items": null,
            "align_self": null,
            "border": null,
            "bottom": null,
            "display": null,
            "flex": null,
            "flex_flow": null,
            "grid_area": null,
            "grid_auto_columns": null,
            "grid_auto_flow": null,
            "grid_auto_rows": null,
            "grid_column": null,
            "grid_gap": null,
            "grid_row": null,
            "grid_template_areas": null,
            "grid_template_columns": null,
            "grid_template_rows": null,
            "height": null,
            "justify_content": null,
            "justify_items": null,
            "left": null,
            "margin": null,
            "max_height": null,
            "max_width": null,
            "min_height": null,
            "min_width": null,
            "object_fit": null,
            "object_position": null,
            "order": null,
            "overflow": null,
            "overflow_x": null,
            "overflow_y": null,
            "padding": null,
            "right": null,
            "top": null,
            "visibility": null,
            "width": null
          }
        },
        "30a17533526c4414a5f3c3eeba339037": {
          "model_module": "@jupyter-widgets/base",
          "model_module_version": "1.2.0",
          "model_name": "LayoutModel",
          "state": {
            "_model_module": "@jupyter-widgets/base",
            "_model_module_version": "1.2.0",
            "_model_name": "LayoutModel",
            "_view_count": null,
            "_view_module": "@jupyter-widgets/base",
            "_view_module_version": "1.2.0",
            "_view_name": "LayoutView",
            "align_content": null,
            "align_items": null,
            "align_self": null,
            "border": null,
            "bottom": null,
            "display": null,
            "flex": null,
            "flex_flow": null,
            "grid_area": null,
            "grid_auto_columns": null,
            "grid_auto_flow": null,
            "grid_auto_rows": null,
            "grid_column": null,
            "grid_gap": null,
            "grid_row": null,
            "grid_template_areas": null,
            "grid_template_columns": null,
            "grid_template_rows": null,
            "height": null,
            "justify_content": null,
            "justify_items": null,
            "left": null,
            "margin": null,
            "max_height": null,
            "max_width": null,
            "min_height": null,
            "min_width": null,
            "object_fit": null,
            "object_position": null,
            "order": null,
            "overflow": null,
            "overflow_x": null,
            "overflow_y": null,
            "padding": null,
            "right": null,
            "top": null,
            "visibility": null,
            "width": null
          }
        },
        "3be577a5971849d7ae963cfcf071fb4f": {
          "model_module": "@jupyter-widgets/controls",
          "model_module_version": "1.5.0",
          "model_name": "DescriptionStyleModel",
          "state": {
            "_model_module": "@jupyter-widgets/controls",
            "_model_module_version": "1.5.0",
            "_model_name": "DescriptionStyleModel",
            "_view_count": null,
            "_view_module": "@jupyter-widgets/base",
            "_view_module_version": "1.2.0",
            "_view_name": "StyleView",
            "description_width": ""
          }
        },
        "491899d7d9e94d84ad806850a57854ca": {
          "model_module": "@jupyter-widgets/controls",
          "model_module_version": "1.5.0",
          "model_name": "ProgressStyleModel",
          "state": {
            "_model_module": "@jupyter-widgets/controls",
            "_model_module_version": "1.5.0",
            "_model_name": "ProgressStyleModel",
            "_view_count": null,
            "_view_module": "@jupyter-widgets/base",
            "_view_module_version": "1.2.0",
            "_view_name": "StyleView",
            "bar_color": null,
            "description_width": ""
          }
        },
        "543cb69246624544a031599a92608ee6": {
          "model_module": "@jupyter-widgets/base",
          "model_module_version": "1.2.0",
          "model_name": "LayoutModel",
          "state": {
            "_model_module": "@jupyter-widgets/base",
            "_model_module_version": "1.2.0",
            "_model_name": "LayoutModel",
            "_view_count": null,
            "_view_module": "@jupyter-widgets/base",
            "_view_module_version": "1.2.0",
            "_view_name": "LayoutView",
            "align_content": null,
            "align_items": null,
            "align_self": null,
            "border": null,
            "bottom": null,
            "display": null,
            "flex": null,
            "flex_flow": null,
            "grid_area": null,
            "grid_auto_columns": null,
            "grid_auto_flow": null,
            "grid_auto_rows": null,
            "grid_column": null,
            "grid_gap": null,
            "grid_row": null,
            "grid_template_areas": null,
            "grid_template_columns": null,
            "grid_template_rows": null,
            "height": null,
            "justify_content": null,
            "justify_items": null,
            "left": null,
            "margin": null,
            "max_height": null,
            "max_width": null,
            "min_height": null,
            "min_width": null,
            "object_fit": null,
            "object_position": null,
            "order": null,
            "overflow": null,
            "overflow_x": null,
            "overflow_y": null,
            "padding": null,
            "right": null,
            "top": null,
            "visibility": null,
            "width": null
          }
        },
        "57311df359b445f6b5981a0272f68f85": {
          "model_module": "@jupyter-widgets/controls",
          "model_module_version": "1.5.0",
          "model_name": "ProgressStyleModel",
          "state": {
            "_model_module": "@jupyter-widgets/controls",
            "_model_module_version": "1.5.0",
            "_model_name": "ProgressStyleModel",
            "_view_count": null,
            "_view_module": "@jupyter-widgets/base",
            "_view_module_version": "1.2.0",
            "_view_name": "StyleView",
            "bar_color": null,
            "description_width": ""
          }
        },
        "5aa4f38438f64f8e881fe5094dd0906f": {
          "model_module": "@jupyter-widgets/controls",
          "model_module_version": "1.5.0",
          "model_name": "HTMLModel",
          "state": {
            "_dom_classes": [],
            "_model_module": "@jupyter-widgets/controls",
            "_model_module_version": "1.5.0",
            "_model_name": "HTMLModel",
            "_view_count": null,
            "_view_module": "@jupyter-widgets/controls",
            "_view_module_version": "1.5.0",
            "_view_name": "HTMLView",
            "description": "",
            "description_tooltip": null,
            "layout": "IPY_MODEL_a5b9e94ab3ef496bb4ee58a5a089bd48",
            "placeholder": "​",
            "style": "IPY_MODEL_3be577a5971849d7ae963cfcf071fb4f",
            "value": " 263k/263k [00:00&lt;00:00, 512kB/s]"
          }
        },
        "6e9bcf0f678f44e791a2e3827ce31a69": {
          "model_module": "@jupyter-widgets/controls",
          "model_module_version": "1.5.0",
          "model_name": "DescriptionStyleModel",
          "state": {
            "_model_module": "@jupyter-widgets/controls",
            "_model_module_version": "1.5.0",
            "_model_name": "DescriptionStyleModel",
            "_view_count": null,
            "_view_module": "@jupyter-widgets/base",
            "_view_module_version": "1.2.0",
            "_view_name": "StyleView",
            "description_width": ""
          }
        },
        "89b7d1028a944b7ca0b2fdfc0fafa0d1": {
          "model_module": "@jupyter-widgets/controls",
          "model_module_version": "1.5.0",
          "model_name": "HTMLModel",
          "state": {
            "_dom_classes": [],
            "_model_module": "@jupyter-widgets/controls",
            "_model_module_version": "1.5.0",
            "_model_name": "HTMLModel",
            "_view_count": null,
            "_view_module": "@jupyter-widgets/controls",
            "_view_module_version": "1.5.0",
            "_view_name": "HTMLView",
            "description": "",
            "description_tooltip": null,
            "layout": "IPY_MODEL_a358c891d3904f6687db3f9dd85673e3",
            "placeholder": "​",
            "style": "IPY_MODEL_a4d945ca0ef04925996ccd9e613ea61b",
            "value": " 61.0/61.0 [00:00&lt;00:00, 2.76kB/s]"
          }
        },
        "8a2e16a2c8814263969acd2be5ce02f7": {
          "model_module": "@jupyter-widgets/controls",
          "model_module_version": "1.5.0",
          "model_name": "HBoxModel",
          "state": {
            "_dom_classes": [],
            "_model_module": "@jupyter-widgets/controls",
            "_model_module_version": "1.5.0",
            "_model_name": "HBoxModel",
            "_view_count": null,
            "_view_module": "@jupyter-widgets/controls",
            "_view_module_version": "1.5.0",
            "_view_name": "HBoxView",
            "box_style": "",
            "children": [
              "IPY_MODEL_213bb20d10484a3dba9d740c957d587a",
              "IPY_MODEL_cdbcb0677be24fd191015bdbf7f2ef2c",
              "IPY_MODEL_5aa4f38438f64f8e881fe5094dd0906f"
            ],
            "layout": "IPY_MODEL_30a17533526c4414a5f3c3eeba339037"
          }
        },
        "9c6352ca7253453cb93f270a4aa10815": {
          "model_module": "@jupyter-widgets/controls",
          "model_module_version": "1.5.0",
          "model_name": "DescriptionStyleModel",
          "state": {
            "_model_module": "@jupyter-widgets/controls",
            "_model_module_version": "1.5.0",
            "_model_name": "DescriptionStyleModel",
            "_view_count": null,
            "_view_module": "@jupyter-widgets/base",
            "_view_module_version": "1.2.0",
            "_view_name": "StyleView",
            "description_width": ""
          }
        },
        "a358c891d3904f6687db3f9dd85673e3": {
          "model_module": "@jupyter-widgets/base",
          "model_module_version": "1.2.0",
          "model_name": "LayoutModel",
          "state": {
            "_model_module": "@jupyter-widgets/base",
            "_model_module_version": "1.2.0",
            "_model_name": "LayoutModel",
            "_view_count": null,
            "_view_module": "@jupyter-widgets/base",
            "_view_module_version": "1.2.0",
            "_view_name": "LayoutView",
            "align_content": null,
            "align_items": null,
            "align_self": null,
            "border": null,
            "bottom": null,
            "display": null,
            "flex": null,
            "flex_flow": null,
            "grid_area": null,
            "grid_auto_columns": null,
            "grid_auto_flow": null,
            "grid_auto_rows": null,
            "grid_column": null,
            "grid_gap": null,
            "grid_row": null,
            "grid_template_areas": null,
            "grid_template_columns": null,
            "grid_template_rows": null,
            "height": null,
            "justify_content": null,
            "justify_items": null,
            "left": null,
            "margin": null,
            "max_height": null,
            "max_width": null,
            "min_height": null,
            "min_width": null,
            "object_fit": null,
            "object_position": null,
            "order": null,
            "overflow": null,
            "overflow_x": null,
            "overflow_y": null,
            "padding": null,
            "right": null,
            "top": null,
            "visibility": null,
            "width": null
          }
        },
        "a4d945ca0ef04925996ccd9e613ea61b": {
          "model_module": "@jupyter-widgets/controls",
          "model_module_version": "1.5.0",
          "model_name": "DescriptionStyleModel",
          "state": {
            "_model_module": "@jupyter-widgets/controls",
            "_model_module_version": "1.5.0",
            "_model_name": "DescriptionStyleModel",
            "_view_count": null,
            "_view_module": "@jupyter-widgets/base",
            "_view_module_version": "1.2.0",
            "_view_name": "StyleView",
            "description_width": ""
          }
        },
        "a5b9e94ab3ef496bb4ee58a5a089bd48": {
          "model_module": "@jupyter-widgets/base",
          "model_module_version": "1.2.0",
          "model_name": "LayoutModel",
          "state": {
            "_model_module": "@jupyter-widgets/base",
            "_model_module_version": "1.2.0",
            "_model_name": "LayoutModel",
            "_view_count": null,
            "_view_module": "@jupyter-widgets/base",
            "_view_module_version": "1.2.0",
            "_view_name": "LayoutView",
            "align_content": null,
            "align_items": null,
            "align_self": null,
            "border": null,
            "bottom": null,
            "display": null,
            "flex": null,
            "flex_flow": null,
            "grid_area": null,
            "grid_auto_columns": null,
            "grid_auto_flow": null,
            "grid_auto_rows": null,
            "grid_column": null,
            "grid_gap": null,
            "grid_row": null,
            "grid_template_areas": null,
            "grid_template_columns": null,
            "grid_template_rows": null,
            "height": null,
            "justify_content": null,
            "justify_items": null,
            "left": null,
            "margin": null,
            "max_height": null,
            "max_width": null,
            "min_height": null,
            "min_width": null,
            "object_fit": null,
            "object_position": null,
            "order": null,
            "overflow": null,
            "overflow_x": null,
            "overflow_y": null,
            "padding": null,
            "right": null,
            "top": null,
            "visibility": null,
            "width": null
          }
        },
        "acc2374283f84850accd57dda72df3d3": {
          "model_module": "@jupyter-widgets/base",
          "model_module_version": "1.2.0",
          "model_name": "LayoutModel",
          "state": {
            "_model_module": "@jupyter-widgets/base",
            "_model_module_version": "1.2.0",
            "_model_name": "LayoutModel",
            "_view_count": null,
            "_view_module": "@jupyter-widgets/base",
            "_view_module_version": "1.2.0",
            "_view_name": "LayoutView",
            "align_content": null,
            "align_items": null,
            "align_self": null,
            "border": null,
            "bottom": null,
            "display": null,
            "flex": null,
            "flex_flow": null,
            "grid_area": null,
            "grid_auto_columns": null,
            "grid_auto_flow": null,
            "grid_auto_rows": null,
            "grid_column": null,
            "grid_gap": null,
            "grid_row": null,
            "grid_template_areas": null,
            "grid_template_columns": null,
            "grid_template_rows": null,
            "height": null,
            "justify_content": null,
            "justify_items": null,
            "left": null,
            "margin": null,
            "max_height": null,
            "max_width": null,
            "min_height": null,
            "min_width": null,
            "object_fit": null,
            "object_position": null,
            "order": null,
            "overflow": null,
            "overflow_x": null,
            "overflow_y": null,
            "padding": null,
            "right": null,
            "top": null,
            "visibility": null,
            "width": null
          }
        },
        "cdbcb0677be24fd191015bdbf7f2ef2c": {
          "model_module": "@jupyter-widgets/controls",
          "model_module_version": "1.5.0",
          "model_name": "FloatProgressModel",
          "state": {
            "_dom_classes": [],
            "_model_module": "@jupyter-widgets/controls",
            "_model_module_version": "1.5.0",
            "_model_name": "FloatProgressModel",
            "_view_count": null,
            "_view_module": "@jupyter-widgets/controls",
            "_view_module_version": "1.5.0",
            "_view_name": "ProgressView",
            "bar_style": "success",
            "description": "",
            "description_tooltip": null,
            "layout": "IPY_MODEL_543cb69246624544a031599a92608ee6",
            "max": 263326,
            "min": 0,
            "orientation": "horizontal",
            "style": "IPY_MODEL_491899d7d9e94d84ad806850a57854ca",
            "value": 263326
          }
        },
        "d487faf8d8fc471cae7c4cb8ddb15305": {
          "model_module": "@jupyter-widgets/controls",
          "model_module_version": "1.5.0",
          "model_name": "FloatProgressModel",
          "state": {
            "_dom_classes": [],
            "_model_module": "@jupyter-widgets/controls",
            "_model_module_version": "1.5.0",
            "_model_name": "FloatProgressModel",
            "_view_count": null,
            "_view_module": "@jupyter-widgets/controls",
            "_view_module_version": "1.5.0",
            "_view_name": "ProgressView",
            "bar_style": "success",
            "description": "",
            "description_tooltip": null,
            "layout": "IPY_MODEL_2ca2ae91e2d9480a9e1eb081e486121a",
            "max": 61,
            "min": 0,
            "orientation": "horizontal",
            "style": "IPY_MODEL_57311df359b445f6b5981a0272f68f85",
            "value": 61
          }
        },
        "fb654b6119ec4e129fab7bae330b1bb1": {
          "model_module": "@jupyter-widgets/base",
          "model_module_version": "1.2.0",
          "model_name": "LayoutModel",
          "state": {
            "_model_module": "@jupyter-widgets/base",
            "_model_module_version": "1.2.0",
            "_model_name": "LayoutModel",
            "_view_count": null,
            "_view_module": "@jupyter-widgets/base",
            "_view_module_version": "1.2.0",
            "_view_name": "LayoutView",
            "align_content": null,
            "align_items": null,
            "align_self": null,
            "border": null,
            "bottom": null,
            "display": null,
            "flex": null,
            "flex_flow": null,
            "grid_area": null,
            "grid_auto_columns": null,
            "grid_auto_flow": null,
            "grid_auto_rows": null,
            "grid_column": null,
            "grid_gap": null,
            "grid_row": null,
            "grid_template_areas": null,
            "grid_template_columns": null,
            "grid_template_rows": null,
            "height": null,
            "justify_content": null,
            "justify_items": null,
            "left": null,
            "margin": null,
            "max_height": null,
            "max_width": null,
            "min_height": null,
            "min_width": null,
            "object_fit": null,
            "object_position": null,
            "order": null,
            "overflow": null,
            "overflow_x": null,
            "overflow_y": null,
            "padding": null,
            "right": null,
            "top": null,
            "visibility": null,
            "width": null
          }
        }
      }
    }
  },
  "nbformat": 4,
  "nbformat_minor": 0
}